{
 "cells": [
  {
   "cell_type": "code",
   "execution_count": null,
   "metadata": {},
   "outputs": [],
   "source": [
    "import pandas as pd\n",
    "import seaborn as sns\n",
    "import matplotlib.pyplot as plt"
   ]
  },
  {
   "cell_type": "code",
   "execution_count": null,
   "metadata": {},
   "outputs": [],
   "source": [
    "df_salaries = pd.read_csv('./datasets/salaries.csv')"
   ]
  },
  {
   "cell_type": "code",
   "execution_count": null,
   "metadata": {},
   "outputs": [],
   "source": [
    "df_salaries.info()"
   ]
  },
  {
   "cell_type": "code",
   "execution_count": null,
   "metadata": {},
   "outputs": [],
   "source": [
    "df_salaries.head(10)"
   ]
  },
  {
   "cell_type": "code",
   "execution_count": null,
   "metadata": {},
   "outputs": [],
   "source": [
    "df_salaries_eda = df_salaries.copy()"
   ]
  },
  {
   "cell_type": "code",
   "execution_count": null,
   "metadata": {},
   "outputs": [],
   "source": [
    "df_salaries_bucketing = df_salaries.copy()"
   ]
  },
  {
   "cell_type": "markdown",
   "metadata": {},
   "source": [
    "### EDA"
   ]
  },
  {
   "cell_type": "code",
   "execution_count": null,
   "metadata": {},
   "outputs": [],
   "source": [
    "# Detectar valores ausentes\n",
    "df_salaries_eda.isna().sum()"
   ]
  },
  {
   "cell_type": "code",
   "execution_count": null,
   "metadata": {},
   "outputs": [],
   "source": [
    "# Medidas estatísticas\n",
    "df_salaries_eda.describe()"
   ]
  },
  {
   "cell_type": "code",
   "execution_count": null,
   "metadata": {},
   "outputs": [],
   "source": [
    "# Verificar outliers\n",
    "sns.boxplot(df_salaries_eda, x='tempo_na_empresa')"
   ]
  },
  {
   "cell_type": "code",
   "execution_count": null,
   "metadata": {},
   "outputs": [],
   "source": [
    "sns.boxplot(df_salaries_eda, x='nivel_na_empresa')"
   ]
  },
  {
   "cell_type": "code",
   "execution_count": null,
   "metadata": {},
   "outputs": [],
   "source": [
    "sns.boxplot(df_salaries_eda, x='salario_em_reais')"
   ]
  },
  {
   "cell_type": "code",
   "execution_count": null,
   "metadata": {},
   "outputs": [],
   "source": [
    "sns.scatterplot(df_salaries_eda, x='tempo_na_empresa', y='salario_em_reais')"
   ]
  },
  {
   "cell_type": "code",
   "execution_count": null,
   "metadata": {},
   "outputs": [],
   "source": [
    "sns.scatterplot(df_salaries_eda, x='nivel_na_empresa', y='salario_em_reais')"
   ]
  },
  {
   "cell_type": "code",
   "execution_count": null,
   "metadata": {},
   "outputs": [],
   "source": [
    "sns.scatterplot(df_salaries_eda, x='nivel_na_empresa', y='tempo_na_empresa')"
   ]
  },
  {
   "cell_type": "markdown",
   "metadata": {},
   "source": [
    "- Percebe-se visualmente que o tempo na empresa tem uma influência forte no salário em reais, mas não é uma relação linear\n",
    "- Não existe relação aparente entre nível na empresa e o salário em reais e entre nível na empresa e tempo na empresa"
   ]
  },
  {
   "cell_type": "code",
   "execution_count": null,
   "metadata": {},
   "outputs": [],
   "source": [
    "sns.pairplot(df_salaries_eda)"
   ]
  },
  {
   "cell_type": "code",
   "execution_count": null,
   "metadata": {},
   "outputs": [],
   "source": [
    "# Mapa de calor para a correlação\n",
    "# Utilizamos Spearman para captar valores não-lineares\n",
    "plt.figure(figsize=(15,6))\n",
    "sns.heatmap(df_salaries_eda.corr('spearman'), annot=True, vmin=-1, vmax=1)"
   ]
  },
  {
   "cell_type": "code",
   "execution_count": null,
   "metadata": {},
   "outputs": [],
   "source": [
    "# Ranking chart\n",
    "sns.heatmap(df_salaries_eda.corr('spearman')[['salario_em_reais']].sort_values(by='salario_em_reais', ascending=False), vmin=-1, vmax=1, annot=True, cmap='BrBG')"
   ]
  },
  {
   "cell_type": "code",
   "execution_count": null,
   "metadata": {},
   "outputs": [],
   "source": [
    "# Bucketing tempo de casa\n",
    "bins_company_time = [0, 10, 20, 30, 40, 50, 60, 70, 80, 90, 100, 110, 120, 200]\n",
    "labels_company_time = ['0-9', '10-19', '20-29','30-39','40-49','50-59','60-69','70-79','80-89','90,99','100-109','110-119','120+']\n",
    "df_salaries_bucketing['escala_tempo_empresa'] = pd.cut(x=df_salaries_bucketing['tempo_na_empresa'],\n",
    "    bins=bins_company_time, labels=labels_company_time, right=False)"
   ]
  },
  {
   "cell_type": "code",
   "execution_count": null,
   "metadata": {},
   "outputs": [],
   "source": [
    "df_salaries_bucketing.head(10)"
   ]
  },
  {
   "cell_type": "code",
   "execution_count": null,
   "metadata": {},
   "outputs": [],
   "source": [
    "plt.figure(figsize=(14,8))\n",
    "sns.boxplot(df_salaries_bucketing, x='escala_tempo_empresa', y='salario_em_reais')"
   ]
  },
  {
   "cell_type": "markdown",
   "metadata": {},
   "source": [
    "### Treinamento de um modelo linear"
   ]
  },
  {
   "cell_type": "code",
   "execution_count": null,
   "metadata": {},
   "outputs": [],
   "source": [
    "import numpy as np\n",
    "from sklearn.model_selection import KFold\n",
    "from sklearn.linear_model import LinearRegression\n",
    "from sklearn.preprocessing import StandardScaler, PolynomialFeatures\n",
    "from sklearn.compose import ColumnTransformer\n",
    "from sklearn.pipeline import Pipeline\n",
    "from sklearn.metrics import r2_score, root_mean_squared_error"
   ]
  },
  {
   "cell_type": "code",
   "execution_count": null,
   "metadata": {},
   "outputs": [],
   "source": [
    "# Criar o dataset de treinamento e teste\n",
    "X = df_salaries.drop(columns='salario_em_reais', axis=1)\n",
    "y = df_salaries['salario_em_reais']"
   ]
  },
  {
   "cell_type": "code",
   "execution_count": null,
   "metadata": {},
   "outputs": [],
   "source": [
    "# Split utilizando kfold com 5 conjuntos\n",
    "kf = KFold(n_splits=5, shuffle=True, random_state=51)"
   ]
  },
  {
   "cell_type": "code",
   "execution_count": null,
   "metadata": {},
   "outputs": [],
   "source": [
    "# Bloco para treinamento do modelo\n",
    "\n",
    "# Pipeline\n",
    "# Padronizar variáveis numéricas - tempo_na_empresa e nivel_na_empresa\n",
    "numeric_columns = ['tempo_na_empresa', 'nivel_na_empresa']\n",
    "numeric_transformer = Pipeline(steps=[\n",
    "    ('scaler', StandardScaler())\n",
    "])\n",
    "\n",
    "preprocessor = ColumnTransformer(\n",
    "    transformers=[\n",
    "        ('num', numeric_transformer, numeric_columns)\n",
    "    ]\n",
    ")\n",
    "\n",
    "# Criando o pipeline principal = Preprocessor + training\n",
    "linear_reg_model = Pipeline(steps=[\n",
    "    ('preprocessor', preprocessor),\n",
    "    ('regressor', LinearRegression())\n",
    "])\n",
    "\n",
    "# Armazenar RMSE Treinamento e Teste\n",
    "rmse_scores_fold_train = []\n",
    "rmse_scores_fold_test = []\n",
    "\n",
    "# Armazenar R2 score de teste\n",
    "r2scores_fold_test = []\n",
    "\n",
    "# Armazenar resíduos\n",
    "residuals = []\n",
    "\n",
    "# Armazenar predições\n",
    "y_pred_total = []\n",
    "\n",
    "for train_index, test_index in kf.split(X):\n",
    "    X_train, X_test = X.iloc[train_index], X.iloc[test_index]\n",
    "    y_train, y_test = y.iloc[train_index], y.iloc[test_index]\n",
    "\n",
    "    # Treinamento do modelo\n",
    "    linear_reg_model.fit(X_train, y_train)\n",
    "\n",
    "    # Predições nos conjuntos de treinamento e teste\n",
    "    y_train_pred = linear_reg_model.predict(X_train)\n",
    "    y_test_pred = linear_reg_model.predict(X_test)\n",
    "\n",
    "    # Métricas\n",
    "    rmse_scores_fold_train.append(root_mean_squared_error(y_train, y_train_pred))\n",
    "    rmse_scores_fold_test.append(root_mean_squared_error(y_test, y_test_pred))\n",
    "    r2scores_fold_test.append(r2_score(y_test, y_test_pred))\n",
    "    residuals.append(np.array(y_test - y_test_pred))\n",
    "    y_pred_total.append(y_test_pred)\n",
    "\n",
    "rmse_train_final = np.mean(rmse_scores_fold_train)\n",
    "rmse_test_final = np.mean(rmse_scores_fold_test)\n",
    "\n",
    "r2score_test_final = np.mean(r2scores_fold_test)\n",
    "\n",
    "percentual_rmse_final = (rmse_test_final - rmse_train_final) / rmse_train_final\n",
    "residuals = np.array(residuals).reshape(-1)\n",
    "y_pred_total = np.array(y_pred_total).reshape(-1)"
   ]
  },
  {
   "cell_type": "code",
   "execution_count": null,
   "metadata": {},
   "outputs": [],
   "source": [
    "# Análise das métricas - Modelo linear\n",
    "print(f'RMSE Treinamento: {rmse_train_final}')\n",
    "print(f'RMSE Teste: {rmse_test_final}')\n",
    "print(f'Diferença percentual entre RMSE treinamento e teste: {percentual_rmse_final * 100} %')\n",
    "print(f'R2 Score teste: {r2score_test_final}')"
   ]
  },
  {
   "cell_type": "markdown",
   "metadata": {},
   "source": [
    "### Análise de resíduos - Modelo linear"
   ]
  },
  {
   "cell_type": "code",
   "execution_count": null,
   "metadata": {},
   "outputs": [],
   "source": [
    "# Transformar resíduos na escala padrão (Z)\n",
    "from scipy.stats import zscore\n",
    "residuals_std = zscore(residuals)"
   ]
  },
  {
   "cell_type": "code",
   "execution_count": null,
   "metadata": {},
   "outputs": [],
   "source": [
    "# Verificar a linearidade dos resíduos: Valores entre -2 e +2 (Z)\n",
    "# Verificar homocedasticidade: Valores estão em torno da reta, sem tendência ou formato\n",
    "sns.scatterplot(x=y_pred_total, y=residuals_std)\n",
    "plt.axhline(y=0)\n",
    "plt.axhline(y=-2)\n",
    "plt.axhline(y=2)"
   ]
  },
  {
   "cell_type": "code",
   "execution_count": null,
   "metadata": {},
   "outputs": [],
   "source": [
    "# Verificar se resíduos seguem uma distribuição normal\n",
    "# QQ plot\n",
    "import pingouin as pg\n",
    "plt.figure(figsize=(14,8))\n",
    "pg.qqplot(residuals_std, dist='norm', confidence=0.95, marker='.')\n",
    "plt.xlabel('Quantis teóricos')\n",
    "plt.ylabel('Resíduos na escala padrão')"
   ]
  },
  {
   "cell_type": "code",
   "execution_count": null,
   "metadata": {},
   "outputs": [],
   "source": [
    "# Teste de normalidade - Shapiro-Wilk\n",
    "from scipy.stats import shapiro, kstest\n",
    "from statsmodels.stats.diagnostic import lilliefors\n",
    "stat_shapiro, p_value_shapiro = shapiro(residuals)\n",
    "print(f\"Estatística do teste: {stat_shapiro}, P-Value: {p_value_shapiro}\")"
   ]
  },
  {
   "cell_type": "code",
   "execution_count": null,
   "metadata": {},
   "outputs": [],
   "source": [
    "# Teste de normalidade - Kolmogorov-Smirnov\n",
    "stat_ks, p_value_ks = kstest(residuals, 'norm')\n",
    "print(f\"Estatística do teste: {stat_ks}, P-Value: {p_value_ks}\")"
   ]
  },
  {
   "cell_type": "code",
   "execution_count": null,
   "metadata": {},
   "outputs": [],
   "source": [
    "# Teste de normalidade - Lilliefors\n",
    "stat_ll, p_value_ll = lilliefors(residuals, dist='norm', pvalmethod='table')\n",
    "print(f\"Estatística do teste: {stat_ll}, P-Value: {p_value_ll}\")"
   ]
  }
 ],
 "metadata": {
  "kernelspec": {
   "display_name": ".venv",
   "language": "python",
   "name": "python3"
  },
  "language_info": {
   "codemirror_mode": {
    "name": "ipython",
    "version": 3
   },
   "file_extension": ".py",
   "mimetype": "text/x-python",
   "name": "python",
   "nbconvert_exporter": "python",
   "pygments_lexer": "ipython3",
   "version": "3.11.9"
  }
 },
 "nbformat": 4,
 "nbformat_minor": 2
}
